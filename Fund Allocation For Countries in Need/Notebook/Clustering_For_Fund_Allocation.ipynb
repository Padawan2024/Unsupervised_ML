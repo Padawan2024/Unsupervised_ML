{
 "cells": [
  {
   "cell_type": "markdown",
   "metadata": {},
   "source": [
    "Problem Statement :\n",
    "HELP International is an international humanitarian NGO that is committed to fighting poverty and providing the \n",
    "people of backward countries with basic amenities and relief during the time of disasters and natural calamities. \n",
    "HELP International have been able to raise around $ 10 million. This money now needs to be allocated strategically and \n",
    "effectively. Hence, inorder to decide the selection of the countries that are in the direst need of aid, data driven decisions \n",
    "are to be made. Thus, it becomes necessary to categorise the countries using socio-economic and health factors that determine the \n",
    "overall development of the country. Thus, based on these clusters of the countries depending on their conditions, funds will be allocated\n",
    "for assistance during the time of disasters and natural calamities. It is a clear cut case of unsupervised learning where we have to \n",
    "create clusters of the countries based on the different feature present."
   ]
  },
  {
   "cell_type": "markdown",
   "metadata": {},
   "source": [
    "Aim :\n",
    "- To cluster countries based on numerical features.\n",
    "- It is an Unsupervised Learning problem statement."
   ]
  },
  {
   "cell_type": "code",
   "execution_count": null,
   "metadata": {},
   "outputs": [],
   "source": [
    "import kaggle\n",
    "import zipfile\n",
    "import os\n",
    "import pandas as pd\n",
    "import matplotlib.pyplot as plt\n",
    "import seaborn as sns"
   ]
  },
  {
   "cell_type": "code",
   "execution_count": null,
   "metadata": {},
   "outputs": [],
   "source": [
    "# Define paths\n",
    "dataset_name = \"rohan0301/unsupervised-learning-on-country-data\"\n",
    "download_path = \"..\\\\Resources\"\n",
    "zip_path = os.path.join(download_path, f\"{os.path.basename(dataset_name)}.zip\")"
   ]
  },
  {
   "cell_type": "code",
   "execution_count": null,
   "metadata": {},
   "outputs": [],
   "source": [
    "# file_path = os.path.join(download_path, f'{os.path.basename(dataset_name)}.csv').replace('-','_')\n",
    "file_path = r'..\\Resources\\Country-data.csv'\n",
    "\n",
    "if os.path.exists(file_path):\n",
    "    dataset_df = pd.read_csv(file_path)\n",
    "else:\n",
    "    !kaggle datasets download -d {dataset_name} -p {download_path}\n",
    "    # Unzip dataset\n",
    "    with zipfile.ZipFile(zip_path, 'r') as zip_ref:\n",
    "        zip_ref.extractall(download_path)\n",
    "    dataset_df = pd.read_csv(file_path)"
   ]
  },
  {
   "cell_type": "markdown",
   "metadata": {},
   "source": [
    "Dataset Attributes\n",
    "- country : Name of the country\n",
    "- child_mort : Death of children under 5 years of age per 1000 live births\n",
    "- exports : Exports of goods and services per capita. Given as %age of the GDP per capita\n",
    "- health : Total health spending per capita. Given as %age of GDP per capita\n",
    "- imports : Imports of goods and services per capita. Given as %age of the GDP per capita\n",
    "- Income : Net income per person\n",
    "- Inflation : The measurement of the annual growth rate of the Total GDP\n",
    "- life_expec : The average number of years a new born child would live if the current mortality patterns are to remain the same\n",
    "- total_fer : The number of children that would be born to each woman if the current age-fertility rates remain the same.\n",
    "- gdpp : The GDP per capita. Calculated as the Total GDP divided by the total population."
   ]
  },
  {
   "cell_type": "code",
   "execution_count": null,
   "metadata": {},
   "outputs": [],
   "source": [
    "dataset_df"
   ]
  },
  {
   "cell_type": "code",
   "execution_count": null,
   "metadata": {},
   "outputs": [],
   "source": [
    "print(dataset_df.shape)\n",
    "dataset_df.info()"
   ]
  },
  {
   "cell_type": "code",
   "execution_count": null,
   "metadata": {},
   "outputs": [],
   "source": [
    "dataset_df.describe().T"
   ]
  },
  {
   "cell_type": "code",
   "execution_count": null,
   "metadata": {},
   "outputs": [],
   "source": [
    "col = list(dataset_df.columns)\n",
    "col.remove('country')\n",
    "categorical_features = ['country']\n",
    "numerical_features = [*col]\n",
    "\n",
    "print('Categorical Features :',categorical_features)\n",
    "print('Numerical Features :',numerical_features)"
   ]
  },
  {
   "cell_type": "code",
   "execution_count": null,
   "metadata": {},
   "outputs": [],
   "source": [
    "# Colors for the plots\n",
    "colors = ['#FF781F', '#2D2926']\n",
    "\n",
    "# Create a 3x3 grid of subplots with specified size\n",
    "fig, ax = plt.subplots(nrows=3, ncols=3, figsize=(15, 15))\n",
    "\n",
    "# Loop through the numerical features\n",
    "for i in range(len(numerical_features)):\n",
    "    # Determine the row and column index for the subplot\n",
    "    row = i // 3  # Row index\n",
    "    col = i % 3   # Column index\n",
    "    \n",
    "    # Plot the distribution for the feature\n",
    "    sns.histplot(dataset_df[numerical_features[i]], kde=True, color=colors[0], ax=ax[row, col])\n",
    "    \n",
    "    # Set the title for each subplot\n",
    "    ax[row, col].set_title(f'Distribution: {numerical_features[i]}')\n",
    "\n",
    "# Adjust layout to prevent overlap\n",
    "plt.tight_layout()\n",
    "\n",
    "# Show the plot\n",
    "plt.show()"
   ]
  },
  {
   "cell_type": "code",
   "execution_count": null,
   "metadata": {},
   "outputs": [],
   "source": [
    "len(dataset_df['country'].unique())"
   ]
  }
 ],
 "metadata": {
  "kernelspec": {
   "display_name": "dev",
   "language": "python",
   "name": "python3"
  },
  "language_info": {
   "codemirror_mode": {
    "name": "ipython",
    "version": 3
   },
   "file_extension": ".py",
   "mimetype": "text/x-python",
   "name": "python",
   "nbconvert_exporter": "python",
   "pygments_lexer": "ipython3",
   "version": "3.10.14"
  }
 },
 "nbformat": 4,
 "nbformat_minor": 2
}
